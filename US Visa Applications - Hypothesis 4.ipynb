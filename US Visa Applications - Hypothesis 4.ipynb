{
 "cells": [
  {
   "cell_type": "markdown",
   "metadata": {},
   "source": [
    "# Hypothesis #4"
   ]
  },
  {
   "cell_type": "markdown",
   "metadata": {},
   "source": [
    "####  H0: This is no difference in visa certification rates between candidates offered salaried (yearly paid) positions and those offered hourly positions.\n",
    "\n",
    "#### HA: There is a difference in visa certification rates between candidates offered salaried (yearly paid) positions and those offered hourly positions."
   ]
  },
  {
   "cell_type": "markdown",
   "metadata": {},
   "source": [
    "## METHODOLOGY\n",
    "\n",
    " - Chi-squared test for homogeneity\n",
    " - Target variable = Certification (categorical)\n",
    " - Independent variable = Wage type (categorical)\n",
    " - Levels = Hourly, yearly\n",
    " - Alpha = .01"
   ]
  },
  {
   "cell_type": "code",
   "execution_count": 2,
   "metadata": {},
   "outputs": [],
   "source": [
    "import pandas as pd\n",
    "import numpy as np\n",
    "import scipy.stats as stats\n",
    "from scipy.stats import chi2_contingency\n",
    "from scipy.stats import chi2"
   ]
  },
  {
   "cell_type": "code",
   "execution_count": 3,
   "metadata": {},
   "outputs": [],
   "source": [
    "import matplotlib.pyplot as plt\n",
    "import seaborn as sns"
   ]
  },
  {
   "cell_type": "code",
   "execution_count": 4,
   "metadata": {},
   "outputs": [
    {
     "name": "stderr",
     "output_type": "stream",
     "text": [
      "/anaconda3/lib/python3.7/site-packages/IPython/core/interactiveshell.py:3058: DtypeWarning: Columns (1,2,10,11,12,13,17,18,21,22,23,24,25,26,28,29,30) have mixed types. Specify dtype option on import or set low_memory=False.\n",
      "  interactivity=interactivity, compiler=compiler, result=result)\n"
     ]
    }
   ],
   "source": [
    "df = pd.read_csv('visa_clean.csv')"
   ]
  },
  {
   "cell_type": "code",
   "execution_count": 5,
   "metadata": {},
   "outputs": [
    {
     "data": {
      "text/html": [
       "<div>\n",
       "<style scoped>\n",
       "    .dataframe tbody tr th:only-of-type {\n",
       "        vertical-align: middle;\n",
       "    }\n",
       "\n",
       "    .dataframe tbody tr th {\n",
       "        vertical-align: top;\n",
       "    }\n",
       "\n",
       "    .dataframe thead th {\n",
       "        text-align: right;\n",
       "    }\n",
       "</style>\n",
       "<table border=\"1\" class=\"dataframe\">\n",
       "  <thead>\n",
       "    <tr style=\"text-align: right;\">\n",
       "      <th></th>\n",
       "      <th>Unnamed: 0</th>\n",
       "      <th>application_type</th>\n",
       "      <th>case_received_date</th>\n",
       "      <th>case_status</th>\n",
       "      <th>class_of_admission</th>\n",
       "      <th>decision_date</th>\n",
       "      <th>employer_city</th>\n",
       "      <th>employer_name</th>\n",
       "      <th>employer_num_employees</th>\n",
       "      <th>employer_state</th>\n",
       "      <th>...</th>\n",
       "      <th>foreign_worker_birth_country</th>\n",
       "      <th>foreign_worker_edu_other</th>\n",
       "      <th>foreign_worker_rel_occ_exp</th>\n",
       "      <th>foreign_worker_req_exp</th>\n",
       "      <th>naics_num</th>\n",
       "      <th>naics_title</th>\n",
       "      <th>wage_offer_from</th>\n",
       "      <th>wage_offer_to</th>\n",
       "      <th>wage_unit_of_pay_offer</th>\n",
       "      <th>pw_job_title</th>\n",
       "    </tr>\n",
       "  </thead>\n",
       "  <tbody>\n",
       "    <tr>\n",
       "      <th>0</th>\n",
       "      <td>0</td>\n",
       "      <td>PERM</td>\n",
       "      <td>NaN</td>\n",
       "      <td>Certified</td>\n",
       "      <td>J-1</td>\n",
       "      <td>2012-02-01</td>\n",
       "      <td>NEW YORK</td>\n",
       "      <td>NETSOFT USA INC.</td>\n",
       "      <td>NaN</td>\n",
       "      <td>NY</td>\n",
       "      <td>...</td>\n",
       "      <td>NaN</td>\n",
       "      <td>NaN</td>\n",
       "      <td>NaN</td>\n",
       "      <td>NaN</td>\n",
       "      <td>541512</td>\n",
       "      <td>COMPUTER SYSTEMS DESIGN SERVICES</td>\n",
       "      <td>75629</td>\n",
       "      <td>NaN</td>\n",
       "      <td>Year</td>\n",
       "      <td>COMPUTER SOFTWARE ENGINEERS, APPLICATIONS</td>\n",
       "    </tr>\n",
       "    <tr>\n",
       "      <th>1</th>\n",
       "      <td>1</td>\n",
       "      <td>PERM</td>\n",
       "      <td>NaN</td>\n",
       "      <td>Denied</td>\n",
       "      <td>B-2</td>\n",
       "      <td>2011-12-21</td>\n",
       "      <td>CARLSTADT</td>\n",
       "      <td>PINNACLE ENVIRONEMNTAL CORP</td>\n",
       "      <td>NaN</td>\n",
       "      <td>NY</td>\n",
       "      <td>...</td>\n",
       "      <td>NaN</td>\n",
       "      <td>NaN</td>\n",
       "      <td>NaN</td>\n",
       "      <td>NaN</td>\n",
       "      <td>562211</td>\n",
       "      <td>HAZARDOUS WASTE TREATMENT AND DISPOSAL</td>\n",
       "      <td>37024</td>\n",
       "      <td>NaN</td>\n",
       "      <td>Year</td>\n",
       "      <td>ASBESTOS HANDLER</td>\n",
       "    </tr>\n",
       "    <tr>\n",
       "      <th>2</th>\n",
       "      <td>2</td>\n",
       "      <td>PERM</td>\n",
       "      <td>NaN</td>\n",
       "      <td>Certified</td>\n",
       "      <td>H-1B</td>\n",
       "      <td>2011-12-01</td>\n",
       "      <td>GLEN ALLEN</td>\n",
       "      <td>SCHNABEL ENGINEERING, INC.</td>\n",
       "      <td>NaN</td>\n",
       "      <td>VA</td>\n",
       "      <td>...</td>\n",
       "      <td>NaN</td>\n",
       "      <td>NaN</td>\n",
       "      <td>NaN</td>\n",
       "      <td>NaN</td>\n",
       "      <td>541330</td>\n",
       "      <td>ENGINEERING SERVICES</td>\n",
       "      <td>47923</td>\n",
       "      <td>NaN</td>\n",
       "      <td>Year</td>\n",
       "      <td>CIVIL ENGINEER</td>\n",
       "    </tr>\n",
       "    <tr>\n",
       "      <th>3</th>\n",
       "      <td>3</td>\n",
       "      <td>PERM</td>\n",
       "      <td>NaN</td>\n",
       "      <td>Certified</td>\n",
       "      <td>B-2</td>\n",
       "      <td>2011-12-01</td>\n",
       "      <td>FLUSHING</td>\n",
       "      <td>EBENEZER MISSION CHURCH</td>\n",
       "      <td>NaN</td>\n",
       "      <td>NY</td>\n",
       "      <td>...</td>\n",
       "      <td>NaN</td>\n",
       "      <td>NaN</td>\n",
       "      <td>NaN</td>\n",
       "      <td>NaN</td>\n",
       "      <td>813110</td>\n",
       "      <td>RELIGIOUS ORGANIZATIONS</td>\n",
       "      <td>10.97</td>\n",
       "      <td>NaN</td>\n",
       "      <td>Hour</td>\n",
       "      <td>FILE CLERK</td>\n",
       "    </tr>\n",
       "    <tr>\n",
       "      <th>4</th>\n",
       "      <td>4</td>\n",
       "      <td>PERM</td>\n",
       "      <td>NaN</td>\n",
       "      <td>Certified</td>\n",
       "      <td>L-1</td>\n",
       "      <td>2012-01-26</td>\n",
       "      <td>ALBANY</td>\n",
       "      <td>ALBANY INTERNATIONAL CORP.</td>\n",
       "      <td>NaN</td>\n",
       "      <td>NY</td>\n",
       "      <td>...</td>\n",
       "      <td>NaN</td>\n",
       "      <td>NaN</td>\n",
       "      <td>NaN</td>\n",
       "      <td>NaN</td>\n",
       "      <td>333291</td>\n",
       "      <td>PAPER INDUSTRY MACHINERY MANUFACTURING</td>\n",
       "      <td>100000</td>\n",
       "      <td>NaN</td>\n",
       "      <td>Year</td>\n",
       "      <td>SALES &amp; SERVICE ENGINEER</td>\n",
       "    </tr>\n",
       "  </tbody>\n",
       "</table>\n",
       "<p>5 rows × 32 columns</p>\n",
       "</div>"
      ],
      "text/plain": [
       "   Unnamed: 0 application_type case_received_date case_status  \\\n",
       "0           0             PERM                NaN   Certified   \n",
       "1           1             PERM                NaN      Denied   \n",
       "2           2             PERM                NaN   Certified   \n",
       "3           3             PERM                NaN   Certified   \n",
       "4           4             PERM                NaN   Certified   \n",
       "\n",
       "  class_of_admission decision_date employer_city                employer_name  \\\n",
       "0                J-1    2012-02-01      NEW YORK             NETSOFT USA INC.   \n",
       "1                B-2    2011-12-21     CARLSTADT  PINNACLE ENVIRONEMNTAL CORP   \n",
       "2               H-1B    2011-12-01    GLEN ALLEN   SCHNABEL ENGINEERING, INC.   \n",
       "3                B-2    2011-12-01      FLUSHING      EBENEZER MISSION CHURCH   \n",
       "4                L-1    2012-01-26        ALBANY   ALBANY INTERNATIONAL CORP.   \n",
       "\n",
       "   employer_num_employees employer_state  ... foreign_worker_birth_country  \\\n",
       "0                     NaN             NY  ...                          NaN   \n",
       "1                     NaN             NY  ...                          NaN   \n",
       "2                     NaN             VA  ...                          NaN   \n",
       "3                     NaN             NY  ...                          NaN   \n",
       "4                     NaN             NY  ...                          NaN   \n",
       "\n",
       "  foreign_worker_edu_other foreign_worker_rel_occ_exp foreign_worker_req_exp  \\\n",
       "0                      NaN                        NaN                    NaN   \n",
       "1                      NaN                        NaN                    NaN   \n",
       "2                      NaN                        NaN                    NaN   \n",
       "3                      NaN                        NaN                    NaN   \n",
       "4                      NaN                        NaN                    NaN   \n",
       "\n",
       "  naics_num                             naics_title wage_offer_from  \\\n",
       "0    541512        COMPUTER SYSTEMS DESIGN SERVICES           75629   \n",
       "1    562211  HAZARDOUS WASTE TREATMENT AND DISPOSAL           37024   \n",
       "2    541330                    ENGINEERING SERVICES           47923   \n",
       "3    813110                 RELIGIOUS ORGANIZATIONS           10.97   \n",
       "4    333291  PAPER INDUSTRY MACHINERY MANUFACTURING          100000   \n",
       "\n",
       "  wage_offer_to wage_unit_of_pay_offer  \\\n",
       "0           NaN                   Year   \n",
       "1           NaN                   Year   \n",
       "2           NaN                   Year   \n",
       "3           NaN                   Hour   \n",
       "4           NaN                   Year   \n",
       "\n",
       "                                pw_job_title  \n",
       "0  COMPUTER SOFTWARE ENGINEERS, APPLICATIONS  \n",
       "1                           ASBESTOS HANDLER  \n",
       "2                             CIVIL ENGINEER  \n",
       "3                                 FILE CLERK  \n",
       "4                   SALES & SERVICE ENGINEER  \n",
       "\n",
       "[5 rows x 32 columns]"
      ]
     },
     "execution_count": 5,
     "metadata": {},
     "output_type": "execute_result"
    }
   ],
   "source": [
    "df.head()"
   ]
  },
  {
   "cell_type": "code",
   "execution_count": 6,
   "metadata": {},
   "outputs": [],
   "source": [
    "#df.info()"
   ]
  },
  {
   "cell_type": "code",
   "execution_count": 7,
   "metadata": {},
   "outputs": [],
   "source": [
    "df['wage_unit_of_pay_offer'].dropna(axis=0, inplace=True)"
   ]
  },
  {
   "cell_type": "code",
   "execution_count": 8,
   "metadata": {},
   "outputs": [
    {
     "data": {
      "text/plain": [
       "False    329145\n",
       "Name: wage_unit_of_pay_offer, dtype: int64"
      ]
     },
     "execution_count": 8,
     "metadata": {},
     "output_type": "execute_result"
    }
   ],
   "source": [
    "df['wage_unit_of_pay_offer'].isnull().value_counts()"
   ]
  },
  {
   "cell_type": "code",
   "execution_count": 9,
   "metadata": {},
   "outputs": [
    {
     "data": {
      "text/plain": [
       "Year         319274\n",
       "Hour           9470\n",
       "Week            230\n",
       "Month           141\n",
       "Bi-Weekly        30\n",
       "Name: wage_unit_of_pay_offer, dtype: int64"
      ]
     },
     "execution_count": 9,
     "metadata": {},
     "output_type": "execute_result"
    }
   ],
   "source": [
    "df['wage_unit_of_pay_offer'].value_counts()"
   ]
  },
  {
   "cell_type": "code",
   "execution_count": 10,
   "metadata": {},
   "outputs": [
    {
     "data": {
      "text/plain": [
       "Index(['Unnamed: 0', 'application_type', 'case_received_date', 'case_status',\n",
       "       'class_of_admission', 'decision_date', 'employer_city', 'employer_name',\n",
       "       'employer_num_employees', 'employer_state', 'foreign_worker_info_city',\n",
       "       'foreign_worker_info_education', 'foreign_worker_info_state',\n",
       "       'pw_amount_9089', 'pw_level_9089', 'pw_soc_code', 'pw_soc_title',\n",
       "       'refile', 'us_economic_sector', 'citizenship', 'case_num',\n",
       "       'foreign_work_alt_edu', 'foreign_worker_birth_country',\n",
       "       'foreign_worker_edu_other', 'foreign_worker_rel_occ_exp',\n",
       "       'foreign_worker_req_exp', 'naics_num', 'naics_title', 'wage_offer_from',\n",
       "       'wage_offer_to', 'wage_unit_of_pay_offer', 'pw_job_title'],\n",
       "      dtype='object')"
      ]
     },
     "execution_count": 10,
     "metadata": {},
     "output_type": "execute_result"
    }
   ],
   "source": [
    "df.columns"
   ]
  },
  {
   "cell_type": "code",
   "execution_count": 11,
   "metadata": {},
   "outputs": [],
   "source": [
    "df.drop('Unnamed: 0', axis=1, inplace=True)"
   ]
  },
  {
   "cell_type": "code",
   "execution_count": 12,
   "metadata": {},
   "outputs": [
    {
     "data": {
      "text/plain": [
       "Year         319274\n",
       "Hour           9470\n",
       "Week            230\n",
       "Month           141\n",
       "Bi-Weekly        30\n",
       "Name: wage_unit_of_pay_offer, dtype: int64"
      ]
     },
     "execution_count": 12,
     "metadata": {},
     "output_type": "execute_result"
    }
   ],
   "source": [
    "df['wage_unit_of_pay_offer'].value_counts()"
   ]
  },
  {
   "cell_type": "code",
   "execution_count": 13,
   "metadata": {},
   "outputs": [
    {
     "data": {
      "text/html": [
       "<div>\n",
       "<style scoped>\n",
       "    .dataframe tbody tr th:only-of-type {\n",
       "        vertical-align: middle;\n",
       "    }\n",
       "\n",
       "    .dataframe tbody tr th {\n",
       "        vertical-align: top;\n",
       "    }\n",
       "\n",
       "    .dataframe thead th {\n",
       "        text-align: right;\n",
       "    }\n",
       "</style>\n",
       "<table border=\"1\" class=\"dataframe\">\n",
       "  <thead>\n",
       "    <tr style=\"text-align: right;\">\n",
       "      <th></th>\n",
       "      <th>application_type</th>\n",
       "      <th>case_received_date</th>\n",
       "      <th>case_status</th>\n",
       "      <th>class_of_admission</th>\n",
       "      <th>decision_date</th>\n",
       "      <th>employer_city</th>\n",
       "      <th>employer_name</th>\n",
       "      <th>employer_num_employees</th>\n",
       "      <th>employer_state</th>\n",
       "      <th>foreign_worker_info_city</th>\n",
       "      <th>...</th>\n",
       "      <th>foreign_worker_birth_country</th>\n",
       "      <th>foreign_worker_edu_other</th>\n",
       "      <th>foreign_worker_rel_occ_exp</th>\n",
       "      <th>foreign_worker_req_exp</th>\n",
       "      <th>naics_num</th>\n",
       "      <th>naics_title</th>\n",
       "      <th>wage_offer_from</th>\n",
       "      <th>wage_offer_to</th>\n",
       "      <th>wage_unit_of_pay_offer</th>\n",
       "      <th>pw_job_title</th>\n",
       "    </tr>\n",
       "  </thead>\n",
       "  <tbody>\n",
       "    <tr>\n",
       "      <th>3</th>\n",
       "      <td>PERM</td>\n",
       "      <td>NaN</td>\n",
       "      <td>Certified</td>\n",
       "      <td>B-2</td>\n",
       "      <td>2011-12-01</td>\n",
       "      <td>FLUSHING</td>\n",
       "      <td>EBENEZER MISSION CHURCH</td>\n",
       "      <td>NaN</td>\n",
       "      <td>NY</td>\n",
       "      <td>NaN</td>\n",
       "      <td>...</td>\n",
       "      <td>NaN</td>\n",
       "      <td>NaN</td>\n",
       "      <td>NaN</td>\n",
       "      <td>NaN</td>\n",
       "      <td>813110</td>\n",
       "      <td>RELIGIOUS ORGANIZATIONS</td>\n",
       "      <td>10.97</td>\n",
       "      <td>NaN</td>\n",
       "      <td>Hour</td>\n",
       "      <td>FILE CLERK</td>\n",
       "    </tr>\n",
       "    <tr>\n",
       "      <th>9</th>\n",
       "      <td>PERM</td>\n",
       "      <td>NaN</td>\n",
       "      <td>Denied</td>\n",
       "      <td>E-2</td>\n",
       "      <td>2012-03-30</td>\n",
       "      <td>BROOKLYN</td>\n",
       "      <td>AMER BROTHERS INTERNATIONAL, INC.</td>\n",
       "      <td>NaN</td>\n",
       "      <td>NY</td>\n",
       "      <td>NaN</td>\n",
       "      <td>...</td>\n",
       "      <td>NaN</td>\n",
       "      <td>NaN</td>\n",
       "      <td>NaN</td>\n",
       "      <td>NaN</td>\n",
       "      <td>452990</td>\n",
       "      <td>ALL OTHER GENERAL MERCHANDISE STORES</td>\n",
       "      <td>12.86</td>\n",
       "      <td>16.82</td>\n",
       "      <td>Hour</td>\n",
       "      <td>SUPERVISOR/MANAGER</td>\n",
       "    </tr>\n",
       "    <tr>\n",
       "      <th>12</th>\n",
       "      <td>PERM</td>\n",
       "      <td>NaN</td>\n",
       "      <td>Certified</td>\n",
       "      <td>H-1B</td>\n",
       "      <td>2012-01-26</td>\n",
       "      <td>SADDLE BROOK</td>\n",
       "      <td>FASTPULSE TECHNOLOGY, INC.</td>\n",
       "      <td>NaN</td>\n",
       "      <td>NJ</td>\n",
       "      <td>NaN</td>\n",
       "      <td>...</td>\n",
       "      <td>NaN</td>\n",
       "      <td>NaN</td>\n",
       "      <td>NaN</td>\n",
       "      <td>NaN</td>\n",
       "      <td>541512</td>\n",
       "      <td>COMPUTER SYSTEMS DESIGN SERVICES</td>\n",
       "      <td>34.3</td>\n",
       "      <td>NaN</td>\n",
       "      <td>Hour</td>\n",
       "      <td>ELECTRONIC ENGINEER</td>\n",
       "    </tr>\n",
       "    <tr>\n",
       "      <th>15</th>\n",
       "      <td>PERM</td>\n",
       "      <td>NaN</td>\n",
       "      <td>Certified-Expired</td>\n",
       "      <td>EWI</td>\n",
       "      <td>2011-10-13</td>\n",
       "      <td>WEST HEMPSTEAD</td>\n",
       "      <td>NIKO DEVELOPMENT CORP</td>\n",
       "      <td>NaN</td>\n",
       "      <td>NY</td>\n",
       "      <td>NaN</td>\n",
       "      <td>...</td>\n",
       "      <td>NaN</td>\n",
       "      <td>NaN</td>\n",
       "      <td>NaN</td>\n",
       "      <td>NaN</td>\n",
       "      <td>238320</td>\n",
       "      <td>PAINTING AND WALL COVERING CONTRACTORS</td>\n",
       "      <td>15.64</td>\n",
       "      <td>NaN</td>\n",
       "      <td>Hour</td>\n",
       "      <td>PAINTERS, CONSTRUCTION AND MAINTENANCE</td>\n",
       "    </tr>\n",
       "    <tr>\n",
       "      <th>16</th>\n",
       "      <td>PERM</td>\n",
       "      <td>NaN</td>\n",
       "      <td>Certified</td>\n",
       "      <td>H-1B</td>\n",
       "      <td>2011-12-05</td>\n",
       "      <td>PLAINSBORO</td>\n",
       "      <td>COMPUNNEL SOFTWARE GROUP, INC.</td>\n",
       "      <td>NaN</td>\n",
       "      <td>NJ</td>\n",
       "      <td>NaN</td>\n",
       "      <td>...</td>\n",
       "      <td>NaN</td>\n",
       "      <td>NaN</td>\n",
       "      <td>NaN</td>\n",
       "      <td>NaN</td>\n",
       "      <td>541511</td>\n",
       "      <td>CUSTOM COMPUTER PROGRAMMING SERVICES</td>\n",
       "      <td>28.05</td>\n",
       "      <td>NaN</td>\n",
       "      <td>Hour</td>\n",
       "      <td>SYSTEMS ANALYST</td>\n",
       "    </tr>\n",
       "  </tbody>\n",
       "</table>\n",
       "<p>5 rows × 31 columns</p>\n",
       "</div>"
      ],
      "text/plain": [
       "   application_type case_received_date        case_status class_of_admission  \\\n",
       "3              PERM                NaN          Certified                B-2   \n",
       "9              PERM                NaN             Denied                E-2   \n",
       "12             PERM                NaN          Certified               H-1B   \n",
       "15             PERM                NaN  Certified-Expired                EWI   \n",
       "16             PERM                NaN          Certified               H-1B   \n",
       "\n",
       "   decision_date   employer_city                      employer_name  \\\n",
       "3     2011-12-01        FLUSHING            EBENEZER MISSION CHURCH   \n",
       "9     2012-03-30        BROOKLYN  AMER BROTHERS INTERNATIONAL, INC.   \n",
       "12    2012-01-26    SADDLE BROOK         FASTPULSE TECHNOLOGY, INC.   \n",
       "15    2011-10-13  WEST HEMPSTEAD              NIKO DEVELOPMENT CORP   \n",
       "16    2011-12-05      PLAINSBORO     COMPUNNEL SOFTWARE GROUP, INC.   \n",
       "\n",
       "    employer_num_employees employer_state foreign_worker_info_city  ...  \\\n",
       "3                      NaN             NY                      NaN  ...   \n",
       "9                      NaN             NY                      NaN  ...   \n",
       "12                     NaN             NJ                      NaN  ...   \n",
       "15                     NaN             NY                      NaN  ...   \n",
       "16                     NaN             NJ                      NaN  ...   \n",
       "\n",
       "   foreign_worker_birth_country foreign_worker_edu_other  \\\n",
       "3                           NaN                      NaN   \n",
       "9                           NaN                      NaN   \n",
       "12                          NaN                      NaN   \n",
       "15                          NaN                      NaN   \n",
       "16                          NaN                      NaN   \n",
       "\n",
       "   foreign_worker_rel_occ_exp foreign_worker_req_exp naics_num  \\\n",
       "3                         NaN                    NaN    813110   \n",
       "9                         NaN                    NaN    452990   \n",
       "12                        NaN                    NaN    541512   \n",
       "15                        NaN                    NaN    238320   \n",
       "16                        NaN                    NaN    541511   \n",
       "\n",
       "                               naics_title wage_offer_from wage_offer_to  \\\n",
       "3                  RELIGIOUS ORGANIZATIONS           10.97           NaN   \n",
       "9     ALL OTHER GENERAL MERCHANDISE STORES           12.86         16.82   \n",
       "12        COMPUTER SYSTEMS DESIGN SERVICES            34.3           NaN   \n",
       "15  PAINTING AND WALL COVERING CONTRACTORS           15.64           NaN   \n",
       "16    CUSTOM COMPUTER PROGRAMMING SERVICES           28.05           NaN   \n",
       "\n",
       "   wage_unit_of_pay_offer                            pw_job_title  \n",
       "3                    Hour                              FILE CLERK  \n",
       "9                    Hour                      SUPERVISOR/MANAGER  \n",
       "12                   Hour                     ELECTRONIC ENGINEER  \n",
       "15                   Hour  PAINTERS, CONSTRUCTION AND MAINTENANCE  \n",
       "16                   Hour                         SYSTEMS ANALYST  \n",
       "\n",
       "[5 rows x 31 columns]"
      ]
     },
     "execution_count": 13,
     "metadata": {},
     "output_type": "execute_result"
    }
   ],
   "source": [
    "# Creating dataframe for hourly employees. \n",
    "df_hour = df.loc[df['wage_unit_of_pay_offer'] == 'Hour']\n",
    "df_hour.head()"
   ]
  },
  {
   "cell_type": "code",
   "execution_count": 14,
   "metadata": {},
   "outputs": [
    {
     "data": {
      "text/html": [
       "<div>\n",
       "<style scoped>\n",
       "    .dataframe tbody tr th:only-of-type {\n",
       "        vertical-align: middle;\n",
       "    }\n",
       "\n",
       "    .dataframe tbody tr th {\n",
       "        vertical-align: top;\n",
       "    }\n",
       "\n",
       "    .dataframe thead th {\n",
       "        text-align: right;\n",
       "    }\n",
       "</style>\n",
       "<table border=\"1\" class=\"dataframe\">\n",
       "  <thead>\n",
       "    <tr style=\"text-align: right;\">\n",
       "      <th></th>\n",
       "      <th>application_type</th>\n",
       "      <th>case_received_date</th>\n",
       "      <th>case_status</th>\n",
       "      <th>class_of_admission</th>\n",
       "      <th>decision_date</th>\n",
       "      <th>employer_city</th>\n",
       "      <th>employer_name</th>\n",
       "      <th>employer_num_employees</th>\n",
       "      <th>employer_state</th>\n",
       "      <th>foreign_worker_info_city</th>\n",
       "      <th>...</th>\n",
       "      <th>foreign_worker_birth_country</th>\n",
       "      <th>foreign_worker_edu_other</th>\n",
       "      <th>foreign_worker_rel_occ_exp</th>\n",
       "      <th>foreign_worker_req_exp</th>\n",
       "      <th>naics_num</th>\n",
       "      <th>naics_title</th>\n",
       "      <th>wage_offer_from</th>\n",
       "      <th>wage_offer_to</th>\n",
       "      <th>wage_unit_of_pay_offer</th>\n",
       "      <th>pw_job_title</th>\n",
       "    </tr>\n",
       "  </thead>\n",
       "  <tbody>\n",
       "    <tr>\n",
       "      <th>0</th>\n",
       "      <td>PERM</td>\n",
       "      <td>NaN</td>\n",
       "      <td>Certified</td>\n",
       "      <td>J-1</td>\n",
       "      <td>2012-02-01</td>\n",
       "      <td>NEW YORK</td>\n",
       "      <td>NETSOFT USA INC.</td>\n",
       "      <td>NaN</td>\n",
       "      <td>NY</td>\n",
       "      <td>NaN</td>\n",
       "      <td>...</td>\n",
       "      <td>NaN</td>\n",
       "      <td>NaN</td>\n",
       "      <td>NaN</td>\n",
       "      <td>NaN</td>\n",
       "      <td>541512</td>\n",
       "      <td>COMPUTER SYSTEMS DESIGN SERVICES</td>\n",
       "      <td>75629</td>\n",
       "      <td>NaN</td>\n",
       "      <td>Year</td>\n",
       "      <td>COMPUTER SOFTWARE ENGINEERS, APPLICATIONS</td>\n",
       "    </tr>\n",
       "    <tr>\n",
       "      <th>1</th>\n",
       "      <td>PERM</td>\n",
       "      <td>NaN</td>\n",
       "      <td>Denied</td>\n",
       "      <td>B-2</td>\n",
       "      <td>2011-12-21</td>\n",
       "      <td>CARLSTADT</td>\n",
       "      <td>PINNACLE ENVIRONEMNTAL CORP</td>\n",
       "      <td>NaN</td>\n",
       "      <td>NY</td>\n",
       "      <td>NaN</td>\n",
       "      <td>...</td>\n",
       "      <td>NaN</td>\n",
       "      <td>NaN</td>\n",
       "      <td>NaN</td>\n",
       "      <td>NaN</td>\n",
       "      <td>562211</td>\n",
       "      <td>HAZARDOUS WASTE TREATMENT AND DISPOSAL</td>\n",
       "      <td>37024</td>\n",
       "      <td>NaN</td>\n",
       "      <td>Year</td>\n",
       "      <td>ASBESTOS HANDLER</td>\n",
       "    </tr>\n",
       "    <tr>\n",
       "      <th>2</th>\n",
       "      <td>PERM</td>\n",
       "      <td>NaN</td>\n",
       "      <td>Certified</td>\n",
       "      <td>H-1B</td>\n",
       "      <td>2011-12-01</td>\n",
       "      <td>GLEN ALLEN</td>\n",
       "      <td>SCHNABEL ENGINEERING, INC.</td>\n",
       "      <td>NaN</td>\n",
       "      <td>VA</td>\n",
       "      <td>NaN</td>\n",
       "      <td>...</td>\n",
       "      <td>NaN</td>\n",
       "      <td>NaN</td>\n",
       "      <td>NaN</td>\n",
       "      <td>NaN</td>\n",
       "      <td>541330</td>\n",
       "      <td>ENGINEERING SERVICES</td>\n",
       "      <td>47923</td>\n",
       "      <td>NaN</td>\n",
       "      <td>Year</td>\n",
       "      <td>CIVIL ENGINEER</td>\n",
       "    </tr>\n",
       "    <tr>\n",
       "      <th>4</th>\n",
       "      <td>PERM</td>\n",
       "      <td>NaN</td>\n",
       "      <td>Certified</td>\n",
       "      <td>L-1</td>\n",
       "      <td>2012-01-26</td>\n",
       "      <td>ALBANY</td>\n",
       "      <td>ALBANY INTERNATIONAL CORP.</td>\n",
       "      <td>NaN</td>\n",
       "      <td>NY</td>\n",
       "      <td>NaN</td>\n",
       "      <td>...</td>\n",
       "      <td>NaN</td>\n",
       "      <td>NaN</td>\n",
       "      <td>NaN</td>\n",
       "      <td>NaN</td>\n",
       "      <td>333291</td>\n",
       "      <td>PAPER INDUSTRY MACHINERY MANUFACTURING</td>\n",
       "      <td>100000</td>\n",
       "      <td>NaN</td>\n",
       "      <td>Year</td>\n",
       "      <td>SALES &amp; SERVICE ENGINEER</td>\n",
       "    </tr>\n",
       "    <tr>\n",
       "      <th>5</th>\n",
       "      <td>PERM</td>\n",
       "      <td>NaN</td>\n",
       "      <td>Denied</td>\n",
       "      <td>EWI</td>\n",
       "      <td>2012-01-26</td>\n",
       "      <td>CARLSTADT</td>\n",
       "      <td>PINNACLE ENVIRONEMNTAL CORP</td>\n",
       "      <td>NaN</td>\n",
       "      <td>NY</td>\n",
       "      <td>NaN</td>\n",
       "      <td>...</td>\n",
       "      <td>NaN</td>\n",
       "      <td>NaN</td>\n",
       "      <td>NaN</td>\n",
       "      <td>NaN</td>\n",
       "      <td>562910</td>\n",
       "      <td>REMEDIATION SERVICES</td>\n",
       "      <td>37024</td>\n",
       "      <td>NaN</td>\n",
       "      <td>Year</td>\n",
       "      <td>HAZARDOUS MATERIALS REMOVAL WORKER</td>\n",
       "    </tr>\n",
       "  </tbody>\n",
       "</table>\n",
       "<p>5 rows × 31 columns</p>\n",
       "</div>"
      ],
      "text/plain": [
       "  application_type case_received_date case_status class_of_admission  \\\n",
       "0             PERM                NaN   Certified                J-1   \n",
       "1             PERM                NaN      Denied                B-2   \n",
       "2             PERM                NaN   Certified               H-1B   \n",
       "4             PERM                NaN   Certified                L-1   \n",
       "5             PERM                NaN      Denied                EWI   \n",
       "\n",
       "  decision_date employer_city                employer_name  \\\n",
       "0    2012-02-01      NEW YORK             NETSOFT USA INC.   \n",
       "1    2011-12-21     CARLSTADT  PINNACLE ENVIRONEMNTAL CORP   \n",
       "2    2011-12-01    GLEN ALLEN   SCHNABEL ENGINEERING, INC.   \n",
       "4    2012-01-26        ALBANY   ALBANY INTERNATIONAL CORP.   \n",
       "5    2012-01-26     CARLSTADT  PINNACLE ENVIRONEMNTAL CORP   \n",
       "\n",
       "   employer_num_employees employer_state foreign_worker_info_city  ...  \\\n",
       "0                     NaN             NY                      NaN  ...   \n",
       "1                     NaN             NY                      NaN  ...   \n",
       "2                     NaN             VA                      NaN  ...   \n",
       "4                     NaN             NY                      NaN  ...   \n",
       "5                     NaN             NY                      NaN  ...   \n",
       "\n",
       "  foreign_worker_birth_country foreign_worker_edu_other  \\\n",
       "0                          NaN                      NaN   \n",
       "1                          NaN                      NaN   \n",
       "2                          NaN                      NaN   \n",
       "4                          NaN                      NaN   \n",
       "5                          NaN                      NaN   \n",
       "\n",
       "  foreign_worker_rel_occ_exp foreign_worker_req_exp naics_num  \\\n",
       "0                        NaN                    NaN    541512   \n",
       "1                        NaN                    NaN    562211   \n",
       "2                        NaN                    NaN    541330   \n",
       "4                        NaN                    NaN    333291   \n",
       "5                        NaN                    NaN    562910   \n",
       "\n",
       "                              naics_title wage_offer_from wage_offer_to  \\\n",
       "0        COMPUTER SYSTEMS DESIGN SERVICES           75629           NaN   \n",
       "1  HAZARDOUS WASTE TREATMENT AND DISPOSAL           37024           NaN   \n",
       "2                    ENGINEERING SERVICES           47923           NaN   \n",
       "4  PAPER INDUSTRY MACHINERY MANUFACTURING          100000           NaN   \n",
       "5                    REMEDIATION SERVICES           37024           NaN   \n",
       "\n",
       "  wage_unit_of_pay_offer                               pw_job_title  \n",
       "0                   Year  COMPUTER SOFTWARE ENGINEERS, APPLICATIONS  \n",
       "1                   Year                           ASBESTOS HANDLER  \n",
       "2                   Year                             CIVIL ENGINEER  \n",
       "4                   Year                   SALES & SERVICE ENGINEER  \n",
       "5                   Year         HAZARDOUS MATERIALS REMOVAL WORKER  \n",
       "\n",
       "[5 rows x 31 columns]"
      ]
     },
     "execution_count": 14,
     "metadata": {},
     "output_type": "execute_result"
    }
   ],
   "source": [
    "# Creating yearly dataframe.\n",
    "df_year = df.loc[df['wage_unit_of_pay_offer'] == 'Year']\n",
    "df_year.head()"
   ]
  },
  {
   "cell_type": "code",
   "execution_count": 15,
   "metadata": {},
   "outputs": [
    {
     "data": {
      "text/plain": [
       "Certified            163484\n",
       "Certified-Expired    124496\n",
       "Denied                17142\n",
       "Withdrawn             14152\n",
       "Name: case_status, dtype: int64"
      ]
     },
     "execution_count": 15,
     "metadata": {},
     "output_type": "execute_result"
    }
   ],
   "source": [
    "df_year['case_status'].value_counts()"
   ]
  },
  {
   "cell_type": "code",
   "execution_count": 16,
   "metadata": {},
   "outputs": [
    {
     "data": {
      "text/plain": [
       "application_type                  77366\n",
       "case_received_date               210614\n",
       "case_status                      287980\n",
       "class_of_admission               273884\n",
       "decision_date                    287980\n",
       "employer_city                    287980\n",
       "employer_name                    287980\n",
       "employer_num_employees           210612\n",
       "employer_state                   287976\n",
       "foreign_worker_info_city         210605\n",
       "foreign_worker_info_education    210614\n",
       "foreign_worker_info_state        200824\n",
       "pw_amount_9089                   287954\n",
       "pw_level_9089                    268079\n",
       "pw_soc_code                      287967\n",
       "pw_soc_title                     287945\n",
       "refile                            98455\n",
       "us_economic_sector                74931\n",
       "citizenship                      287980\n",
       "case_num                         287980\n",
       "foreign_work_alt_edu             210614\n",
       "foreign_worker_birth_country     210612\n",
       "foreign_worker_edu_other         136981\n",
       "foreign_worker_rel_occ_exp       210614\n",
       "foreign_worker_req_exp           210614\n",
       "naics_num                        287824\n",
       "naics_title                      287296\n",
       "wage_offer_from                  287979\n",
       "wage_offer_to                     83792\n",
       "wage_unit_of_pay_offer           287980\n",
       "pw_job_title                     287971\n",
       "dtype: int64"
      ]
     },
     "execution_count": 16,
     "metadata": {},
     "output_type": "execute_result"
    }
   ],
   "source": [
    "# Creating the yearly certified dataset.\n",
    "yr_cert = df_year.loc[df_year['case_status'] == 'Certified'].count() + df_year.loc[df_year['case_status'] == 'Certified-Expired'].count()\n",
    "yr_cert"
   ]
  },
  {
   "cell_type": "code",
   "execution_count": 17,
   "metadata": {},
   "outputs": [
    {
     "data": {
      "text/plain": [
       "application_type                 11317\n",
       "case_received_date               19975\n",
       "case_status                      31294\n",
       "class_of_admission               27427\n",
       "decision_date                    31294\n",
       "employer_city                    31292\n",
       "employer_name                    31292\n",
       "employer_num_employees           19956\n",
       "employer_state                   31280\n",
       "foreign_worker_info_city         19970\n",
       "foreign_worker_info_education    19969\n",
       "foreign_worker_info_state        17315\n",
       "pw_amount_9089                   31186\n",
       "pw_level_9089                    29525\n",
       "pw_soc_code                      31232\n",
       "pw_soc_title                     31151\n",
       "refile                           15378\n",
       "us_economic_sector               10969\n",
       "citizenship                      31274\n",
       "case_num                         31294\n",
       "foreign_work_alt_edu             19975\n",
       "foreign_worker_birth_country     19965\n",
       "foreign_worker_edu_other         11093\n",
       "foreign_worker_rel_occ_exp       19974\n",
       "foreign_worker_req_exp           19976\n",
       "naics_num                        31050\n",
       "naics_title                      30978\n",
       "wage_offer_from                  31289\n",
       "wage_offer_to                     7251\n",
       "wage_unit_of_pay_offer           31294\n",
       "pw_job_title                     31241\n",
       "dtype: int64"
      ]
     },
     "execution_count": 17,
     "metadata": {},
     "output_type": "execute_result"
    }
   ],
   "source": [
    "# Creating the yearly denied dataframe. \n",
    "yr_den = df_year.loc[df_year['case_status'] == 'Denied'].count() + df_year.loc[df_year['case_status'] == 'Withdrawn'].count()\n",
    "yr_den"
   ]
  },
  {
   "cell_type": "code",
   "execution_count": 18,
   "metadata": {},
   "outputs": [
    {
     "data": {
      "text/plain": [
       "application_type                 1479\n",
       "case_received_date               4884\n",
       "case_status                      6363\n",
       "class_of_admission               5703\n",
       "decision_date                    6363\n",
       "employer_city                    6363\n",
       "employer_name                    6363\n",
       "employer_num_employees           4882\n",
       "employer_state                   6363\n",
       "foreign_worker_info_city         4881\n",
       "foreign_worker_info_education    4884\n",
       "foreign_worker_info_state        2002\n",
       "pw_amount_9089                   6354\n",
       "pw_level_9089                    6202\n",
       "pw_soc_code                      6363\n",
       "pw_soc_title                     6358\n",
       "refile                           1649\n",
       "us_economic_sector               1439\n",
       "citizenship                      6363\n",
       "case_num                         6363\n",
       "foreign_work_alt_edu             4884\n",
       "foreign_worker_birth_country     4884\n",
       "foreign_worker_edu_other         3977\n",
       "foreign_worker_rel_occ_exp       4884\n",
       "foreign_worker_req_exp           4884\n",
       "naics_num                        6337\n",
       "naics_title                      6326\n",
       "wage_offer_from                  6363\n",
       "wage_offer_to                    1284\n",
       "wage_unit_of_pay_offer           6363\n",
       "pw_job_title                     6357\n",
       "dtype: int64"
      ]
     },
     "execution_count": 18,
     "metadata": {},
     "output_type": "execute_result"
    }
   ],
   "source": [
    "# Creating the hourly certified dataset.\n",
    "hr_cert = df_hour.loc[df_hour['case_status'] == 'Certified'].count() + df_hour.loc[df_hour['case_status'] == 'Certified-Expired'].count()\n",
    "hr_cert"
   ]
  },
  {
   "cell_type": "code",
   "execution_count": 19,
   "metadata": {},
   "outputs": [
    {
     "data": {
      "text/plain": [
       "application_type                  953\n",
       "case_received_date               2154\n",
       "case_status                      3107\n",
       "class_of_admission               1963\n",
       "decision_date                    3107\n",
       "employer_city                    3102\n",
       "employer_name                    3104\n",
       "employer_num_employees           2134\n",
       "employer_state                   3101\n",
       "foreign_worker_info_city         2151\n",
       "foreign_worker_info_education    2150\n",
       "foreign_worker_info_state         861\n",
       "pw_amount_9089                   2951\n",
       "pw_level_9089                    2447\n",
       "pw_soc_code                      2981\n",
       "pw_soc_title                     2861\n",
       "refile                           1328\n",
       "us_economic_sector                830\n",
       "citizenship                      3097\n",
       "case_num                         3107\n",
       "foreign_work_alt_edu             2140\n",
       "foreign_worker_birth_country     2147\n",
       "foreign_worker_edu_other         1550\n",
       "foreign_worker_rel_occ_exp       2150\n",
       "foreign_worker_req_exp           2150\n",
       "naics_num                        2854\n",
       "naics_title                      2849\n",
       "wage_offer_from                  3101\n",
       "wage_offer_to                     720\n",
       "wage_unit_of_pay_offer           3107\n",
       "pw_job_title                     2985\n",
       "dtype: int64"
      ]
     },
     "execution_count": 19,
     "metadata": {},
     "output_type": "execute_result"
    }
   ],
   "source": [
    "# Creating the hourly denied dataset.\n",
    "hr_den = df_hour.loc[df_hour['case_status'] == 'Denied'].count() + df_hour.loc[df_hour['case_status'] == 'Withdrawn'].count()\n",
    "hr_den"
   ]
  },
  {
   "cell_type": "code",
   "execution_count": 20,
   "metadata": {},
   "outputs": [
    {
     "data": {
      "text/plain": [
       "array([[287980,   6363],\n",
       "       [ 31294,   3107]])"
      ]
     },
     "execution_count": 20,
     "metadata": {},
     "output_type": "execute_result"
    }
   ],
   "source": [
    "# Creating np array for Chi Squared test. \n",
    "certified = [yr_cert['case_status'], hr_cert['case_status']]\n",
    "denied = [yr_den['case_status'],hr_den['case_status']]\n",
    "wage_chi2 = np.array([certified,denied])\n",
    "wage_chi2"
   ]
  },
  {
   "cell_type": "code",
   "execution_count": 21,
   "metadata": {
    "scrolled": true
   },
   "outputs": [
    {
     "name": "stdout",
     "output_type": "stream",
     "text": [
      "===Chi2 Stat===\n",
      "5193.630366413307\n",
      "\n",
      "\n",
      "===Degrees of Freedom===\n",
      "1\n",
      "\n",
      "\n",
      "===P-Value===\n",
      "0.0\n",
      "\n",
      "\n",
      "===Contingency Table===\n",
      "[[285863.97616991   8479.02383009]\n",
      " [ 33410.02383009    990.97616991]]\n",
      "probability=0.990, critical=6.635, stat=5193.630\n",
      "Dependent (reject H0)\n",
      "significance=0.010, p=0.000\n",
      "Dependent (reject H0)\n"
     ]
    }
   ],
   "source": [
    "# Running chi-squared\n",
    "chi2_stat, p_val, dof, ex = chi2_contingency(wage_chi2)\n",
    "print(\"===Chi2 Stat===\")\n",
    "print(chi2_stat)\n",
    "print(\"\\n\")\n",
    "print(\"===Degrees of Freedom===\")\n",
    "print(dof)\n",
    "print(\"\\n\")\n",
    "print(\"===P-Value===\")\n",
    "print(p_val)\n",
    "print(\"\\n\")\n",
    "print(\"===Contingency Table===\")\n",
    "print(ex)\n",
    "\n",
    "#interpret test-statistics\n",
    "prob = .99\n",
    "critical = chi2.ppf(prob, dof)\n",
    "print('probability=%.3f, critical=%.3f, stat=%.3f' % (prob, critical, chi2_stat))\n",
    "if abs(chi2_stat) >= critical:\n",
    "    print('Dependent (reject H0)')\n",
    "else:\n",
    "    print('Independent (fail to reject H0)')\n",
    "    \n",
    "# interpret p-value\n",
    "alpha = 1.0 - prob\n",
    "print('significance=%.3f, p=%.3f' % (alpha, p_val))\n",
    "if p_val <= alpha:\n",
    "    print('Dependent (reject H0)')\n",
    "else:\n",
    "    print('Independent (fail to reject H0)')"
   ]
  },
  {
   "cell_type": "markdown",
   "metadata": {},
   "source": [
    "### Results:\n",
    "\n",
    "- Extremely high Chi-Squared statistic. \n",
    "- Low p-value.\n",
    "- We can reject the null hypothesis.\n",
    "- Worth cross checking whether this is true for all job titles or only some. "
   ]
  },
  {
   "cell_type": "code",
   "execution_count": 22,
   "metadata": {},
   "outputs": [],
   "source": [
    "# Creating new datasets specifically for Software Developers, Applications. \n",
    "df_hr_sft = df_hour.loc[df_hour['pw_job_title'] == 'SOFTWARE DEVELOPERS, APPLICATIONS']\n",
    "df_yr_sft = df_year.loc[df_year['pw_job_title'] == 'SOFTWARE DEVELOPERS, APPLICATIONS']"
   ]
  },
  {
   "cell_type": "code",
   "execution_count": 23,
   "metadata": {},
   "outputs": [],
   "source": [
    "# Software developer certifications.\n",
    "hr_sft_cert = df_hr_sft.loc[df_hr_sft['case_status'] == 'Certified'].count() + df_hr_sft.loc[df_hr_sft['case_status'] == 'Certified-Expired'].count()\n",
    "yr_sft_cert = df_yr_sft.loc[df_yr_sft['case_status'] == 'Certified'].count() + df_yr_sft.loc[df_yr_sft['case_status'] == 'Certified-Expired'].count()"
   ]
  },
  {
   "cell_type": "code",
   "execution_count": 24,
   "metadata": {},
   "outputs": [],
   "source": [
    "# Software developer denials.\n",
    "hr_sft_den = df_hr_sft.loc[df_hr_sft['case_status'] == 'Denied'].count() + df_hr_sft.loc[df_hr_sft['case_status'] == 'Withdrawn'].count()\n",
    "yr_sft_den = df_yr_sft.loc[df_yr_sft['case_status'] == 'Denied'].count() + df_yr_sft.loc[df_yr_sft['case_status'] == 'Withdrawn'].count()\n"
   ]
  },
  {
   "cell_type": "code",
   "execution_count": 25,
   "metadata": {},
   "outputs": [
    {
     "data": {
      "text/plain": [
       "array([[86281,   635],\n",
       "       [ 5448,    48]])"
      ]
     },
     "execution_count": 25,
     "metadata": {},
     "output_type": "execute_result"
    }
   ],
   "source": [
    "# New np array for Chi Squared test. \n",
    "s_certified = [yr_sft_cert['case_status'], hr_sft_cert['case_status']]\n",
    "s_denied = [yr_sft_den['case_status'],hr_sft_den['case_status']]\n",
    "swage_chi2 = np.array([s_certified,s_denied])\n",
    "swage_chi2"
   ]
  },
  {
   "cell_type": "code",
   "execution_count": 26,
   "metadata": {},
   "outputs": [
    {
     "name": "stdout",
     "output_type": "stream",
     "text": [
      "===Chi2 Stat===\n",
      "1.2482406765826557\n",
      "\n",
      "\n",
      "===Degrees of Freedom===\n",
      "1\n",
      "\n",
      "\n",
      "===P-Value===\n",
      "0.26388876471561057\n",
      "\n",
      "\n",
      "===Contingency Table===\n",
      "[[8.62736199e+04 6.42380081e+02]\n",
      " [5.45538008e+03 4.06199195e+01]]\n"
     ]
    }
   ],
   "source": [
    "# Performing Chi-Squared\n",
    "s_chi2_stat, s_p_val, s_dof, s_ex = chi2_contingency(swage_chi2)\n",
    "print(\"===Chi2 Stat===\")\n",
    "print(s_chi2_stat)\n",
    "print(\"\\n\")\n",
    "print(\"===Degrees of Freedom===\")\n",
    "print(s_dof)\n",
    "print(\"\\n\")\n",
    "print(\"===P-Value===\")\n",
    "print(s_p_val)\n",
    "print(\"\\n\")\n",
    "print(\"===Contingency Table===\")\n",
    "print(s_ex)"
   ]
  },
  {
   "cell_type": "markdown",
   "metadata": {},
   "source": [
    "### Results:\n",
    "\n",
    "- Chi-Squared stat has decreased significantly. \n",
    "- P-value change to .26\n",
    "- In this case, we accept the null hypothesis. \n",
    "- Certification rates for hourly and salary employees is likely driven more by the class of application than wage type. "
   ]
  },
  {
   "cell_type": "code",
   "execution_count": 27,
   "metadata": {},
   "outputs": [],
   "source": [
    "def visualize_chisq(chisq_stat, df, alpha):\n",
    "    # initialize a matplotlib \"figure\"\n",
    "    fig = plt.figure(figsize=(16,10))\n",
    "    # get the current \"axis\" out of the figure\n",
    "    ax = fig.gca()\n",
    "    \n",
    "    # X-values will be adjusted for each graph. \n",
    "    xs = np.linspace(0, 7, 50)\n",
    "    ys = stats.chi2.pdf(xs, df)\n",
    "    ax.plot(xs, ys, 'r-', lw=5, alpha=alpha, label='chi2 pdf')\n",
    "    # plot the lines using matplotlib's plot function:\n",
    "    ax.plot(xs, ys, linewidth=2, color='darkblue')\n",
    "    \n",
    "    ax.xlabel = 'Chi-Sqaured Values'\n",
    "    # plot a vertical line for our measured difference in rates t-statistic\n",
    "    ax.axvline(chisq_stat, color='red', linestyle='--', lw=5,label='chi-sq-statistic')\n",
    "    chi_sq_crit = stats.chi2.ppf(1-alpha, df)\n",
    "    ax.plot(xs, ys, linewidth=1, color='darkblue')\n",
    "    ax.axvline(chi_sq_crit,color='green',linestyle='--',lw=4,label='crit chi-sq-value')\n",
    "    ax.fill_betweenx(ys,xs,chi_sq_crit, where= xs > chi_sq_crit)\n",
    "    \n",
    "    ax.legend()\n",
    "    plt.show()\n",
    "    return None\n"
   ]
  },
  {
   "cell_type": "code",
   "execution_count": 28,
   "metadata": {},
   "outputs": [
    {
     "data": {
      "image/png": "[encoded data removed]",
      "text/plain": [
       "<Figure size 1152x720 with 1 Axes>"
      ]
     },
     "metadata": {
      "needs_background": "light"
     },
     "output_type": "display_data"
    }
   ],
   "source": [
    "# Visualizing original hypothesis. Large significance.\n",
    "visualize_chisq(chi2_stat, df=1, alpha=0.01)"
   ]
  },
  {
   "cell_type": "code",
   "execution_count": 29,
   "metadata": {},
   "outputs": [
    {
     "data": {
      "image/png": "[encoded data removed]",
      "text/plain": [
       "<Figure size 1152x720 with 1 Axes>"
      ]
     },
     "metadata": {
      "needs_background": "light"
     },
     "output_type": "display_data"
    }
   ],
   "source": [
    "# Graph for software developers only. \n",
    "visualize_chisq(s_chi2_stat, df=1, alpha=0.01)"
   ]
  }
 ],
 "metadata": {
  "kernelspec": {
   "display_name": "Python 3",
   "language": "python",
   "name": "python3"
  },
  "language_info": {
   "codemirror_mode": {
    "name": "ipython",
    "version": 3
   },
   "file_extension": ".py",
   "mimetype": "text/x-python",
   "name": "python",
   "nbconvert_exporter": "python",
   "pygments_lexer": "ipython3",
   "version": "3.7.3"
  }
 },
 "nbformat": 4,
 "nbformat_minor": 2
}
