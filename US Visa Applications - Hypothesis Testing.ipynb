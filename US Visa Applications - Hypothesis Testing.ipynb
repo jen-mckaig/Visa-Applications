{
 "cells": [
  {
   "cell_type": "markdown",
   "metadata": {},
   "source": [
    "# US Visa Applicants 2012-2017"
   ]
  },
  {
   "cell_type": "markdown",
   "metadata": {},
   "source": [
    "\n",
    "\n",
    "### Hypothesis 1: \n",
    "\n",
    "If applicants are from a Fortune 500 company, it is more probable that their visa will be certified.\n",
    "\n",
    "\n",
    "### Hypothesis 2: \n",
    "\n",
    "There is a relationship between annual salaries offered to candidates and their country of origin in the technology industry for software developer roles. \n",
    "\n",
    "\n",
    "### Hypothesis 3: \n",
    "\n",
    "There is a difference in certification rates between US ECONOMIC STEM SECTORS and NON_STEM SECTORS.\n",
    "\n",
    "\n",
    "### Hypothesis 4: \n",
    "\n",
    "There is a difference in visa certification rates between candidates offered salaried (yearly paid) positions and those offered hourly positions.\n",
    "\n"
   ]
  },
  {
   "cell_type": "markdown",
   "metadata": {},
   "source": [
    "#### Data from Kaggle : https://www.kaggle.com/jboysen/us-perm-visas"
   ]
  },
  {
   "cell_type": "code",
   "execution_count": 23,
   "metadata": {},
   "outputs": [],
   "source": [
    "import pandas as pd\n",
    "import numpy as np\n",
    "import matplotlib.pyplot as plt\n",
    "%matplotlib inline\n",
    "import seaborn as sns\n",
    "import statsmodels.api as sm\n",
    "from statsmodels.formula.api import ols\n",
    "import scipy.stats as stats\n",
    "import math\n",
    "from operator import itemgetter\n",
    "import warnings\n",
    "warnings.filterwarnings('ignore')\n",
    "import re"
   ]
  },
  {
   "cell_type": "markdown",
   "metadata": {},
   "source": [
    "## Initial Data Exploration"
   ]
  },
  {
   "cell_type": "code",
   "execution_count": 78,
   "metadata": {},
   "outputs": [],
   "source": [
    "df = pd.read_csv('us_perm_visas.csv')"
   ]
  },
  {
   "cell_type": "code",
   "execution_count": 79,
   "metadata": {
    "scrolled": true
   },
   "outputs": [
    {
     "data": {
      "text/html": [
       "<div>\n",
       "<style scoped>\n",
       "    .dataframe tbody tr th:only-of-type {\n",
       "        vertical-align: middle;\n",
       "    }\n",
       "\n",
       "    .dataframe tbody tr th {\n",
       "        vertical-align: top;\n",
       "    }\n",
       "\n",
       "    .dataframe thead th {\n",
       "        text-align: right;\n",
       "    }\n",
       "</style>\n",
       "<table border=\"1\" class=\"dataframe\">\n",
       "  <thead>\n",
       "    <tr style=\"text-align: right;\">\n",
       "      <th></th>\n",
       "      <th>add_these_pw_job_title_9089</th>\n",
       "      <th>agent_city</th>\n",
       "      <th>agent_firm_name</th>\n",
       "      <th>agent_state</th>\n",
       "      <th>application_type</th>\n",
       "      <th>case_no</th>\n",
       "      <th>case_number</th>\n",
       "      <th>case_received_date</th>\n",
       "      <th>case_status</th>\n",
       "      <th>class_of_admission</th>\n",
       "      <th>...</th>\n",
       "      <th>ri_pvt_employment_firm_to</th>\n",
       "      <th>ri_us_workers_considered</th>\n",
       "      <th>schd_a_sheepherder</th>\n",
       "      <th>us_economic_sector</th>\n",
       "      <th>wage_offer_from_9089</th>\n",
       "      <th>wage_offer_to_9089</th>\n",
       "      <th>wage_offer_unit_of_pay_9089</th>\n",
       "      <th>wage_offered_from_9089</th>\n",
       "      <th>wage_offered_to_9089</th>\n",
       "      <th>wage_offered_unit_of_pay_9089</th>\n",
       "    </tr>\n",
       "  </thead>\n",
       "  <tbody>\n",
       "    <tr>\n",
       "      <th>0</th>\n",
       "      <td>NaN</td>\n",
       "      <td>NaN</td>\n",
       "      <td>NaN</td>\n",
       "      <td>NaN</td>\n",
       "      <td>PERM</td>\n",
       "      <td>A-07323-97014</td>\n",
       "      <td>NaN</td>\n",
       "      <td>NaN</td>\n",
       "      <td>Certified</td>\n",
       "      <td>J-1</td>\n",
       "      <td>...</td>\n",
       "      <td>NaN</td>\n",
       "      <td>NaN</td>\n",
       "      <td>NaN</td>\n",
       "      <td>IT</td>\n",
       "      <td>75629</td>\n",
       "      <td>NaN</td>\n",
       "      <td>yr</td>\n",
       "      <td>NaN</td>\n",
       "      <td>NaN</td>\n",
       "      <td>NaN</td>\n",
       "    </tr>\n",
       "    <tr>\n",
       "      <th>1</th>\n",
       "      <td>NaN</td>\n",
       "      <td>NaN</td>\n",
       "      <td>NaN</td>\n",
       "      <td>NaN</td>\n",
       "      <td>PERM</td>\n",
       "      <td>A-07332-99439</td>\n",
       "      <td>NaN</td>\n",
       "      <td>NaN</td>\n",
       "      <td>Denied</td>\n",
       "      <td>B-2</td>\n",
       "      <td>...</td>\n",
       "      <td>NaN</td>\n",
       "      <td>NaN</td>\n",
       "      <td>NaN</td>\n",
       "      <td>Other Economic Sector</td>\n",
       "      <td>37024</td>\n",
       "      <td>NaN</td>\n",
       "      <td>yr</td>\n",
       "      <td>NaN</td>\n",
       "      <td>NaN</td>\n",
       "      <td>NaN</td>\n",
       "    </tr>\n",
       "  </tbody>\n",
       "</table>\n",
       "<p>2 rows × 154 columns</p>\n",
       "</div>"
      ],
      "text/plain": [
       "  add_these_pw_job_title_9089 agent_city agent_firm_name agent_state  \\\n",
       "0                         NaN        NaN             NaN         NaN   \n",
       "1                         NaN        NaN             NaN         NaN   \n",
       "\n",
       "  application_type        case_no case_number case_received_date case_status  \\\n",
       "0             PERM  A-07323-97014         NaN                NaN   Certified   \n",
       "1             PERM  A-07332-99439         NaN                NaN      Denied   \n",
       "\n",
       "  class_of_admission  ... ri_pvt_employment_firm_to ri_us_workers_considered  \\\n",
       "0                J-1  ...                       NaN                      NaN   \n",
       "1                B-2  ...                       NaN                      NaN   \n",
       "\n",
       "  schd_a_sheepherder     us_economic_sector wage_offer_from_9089  \\\n",
       "0                NaN                     IT                75629   \n",
       "1                NaN  Other Economic Sector                37024   \n",
       "\n",
       "  wage_offer_to_9089 wage_offer_unit_of_pay_9089 wage_offered_from_9089  \\\n",
       "0                NaN                          yr                    NaN   \n",
       "1                NaN                          yr                    NaN   \n",
       "\n",
       "  wage_offered_to_9089  wage_offered_unit_of_pay_9089  \n",
       "0                  NaN                            NaN  \n",
       "1                  NaN                            NaN  \n",
       "\n",
       "[2 rows x 154 columns]"
      ]
     },
     "execution_count": 79,
     "metadata": {},
     "output_type": "execute_result"
    }
   ],
   "source": [
    "df.head(2)"
   ]
  },
  {
   "cell_type": "code",
   "execution_count": 111,
   "metadata": {},
   "outputs": [],
   "source": [
    "#list(df.columns)"
   ]
  },
  {
   "cell_type": "code",
   "execution_count": 80,
   "metadata": {},
   "outputs": [
    {
     "data": {
      "text/plain": [
       "(374362, 154)"
      ]
     },
     "execution_count": 80,
     "metadata": {},
     "output_type": "execute_result"
    }
   ],
   "source": [
    "df.shape"
   ]
  },
  {
   "cell_type": "code",
   "execution_count": 81,
   "metadata": {},
   "outputs": [],
   "source": [
    "#list(df.columns)"
   ]
  },
  {
   "cell_type": "code",
   "execution_count": 82,
   "metadata": {},
   "outputs": [],
   "source": [
    "a_df = df[['pw_soc_code','pw_soc_title','case_status', 'class_of_admission', 'country_of_citizenship','pw_amount_9089','pw_level_9089', 'decision_date','employer_name','employer_num_employees','employer_city']]"
   ]
  },
  {
   "cell_type": "code",
   "execution_count": 83,
   "metadata": {},
   "outputs": [],
   "source": [
    "sal_chk = a_df.loc[a_df['pw_soc_title']=='Software Developers, Applications']"
   ]
  },
  {
   "cell_type": "code",
   "execution_count": 84,
   "metadata": {},
   "outputs": [],
   "source": [
    "#sal_chk[['pw_level_9089','pw_amount_9089']]"
   ]
  },
  {
   "cell_type": "code",
   "execution_count": 85,
   "metadata": {},
   "outputs": [],
   "source": [
    "cert_df = a_df[a_df['case_status']=='Certified']"
   ]
  },
  {
   "cell_type": "code",
   "execution_count": 86,
   "metadata": {},
   "outputs": [],
   "source": [
    "cert_titles = cert_df.groupby(['pw_soc_title'])['pw_soc_code'].count().sort_values(ascending=False)"
   ]
  },
  {
   "cell_type": "code",
   "execution_count": 87,
   "metadata": {
    "scrolled": true
   },
   "outputs": [
    {
     "data": {
      "text/plain": [
       "pw_soc_title\n",
       "Software Developers, Applications            57998\n",
       "Computer Systems Analysts                    17040\n",
       "Software Developers, Systems Software        11329\n",
       "Electronics Engineers, Except Computer        6591\n",
       "Computer and Information Systems Managers     4569\n",
       "Name: pw_soc_code, dtype: int64"
      ]
     },
     "execution_count": 87,
     "metadata": {},
     "output_type": "execute_result"
    }
   ],
   "source": [
    "cert_titles.head()"
   ]
  },
  {
   "cell_type": "code",
   "execution_count": 88,
   "metadata": {},
   "outputs": [
    {
     "data": {
      "text/plain": [
       "class_of_admission\n",
       "H-1B          139297\n",
       "L-1             9946\n",
       "F-1             7391\n",
       "Not in USA      4190\n",
       "TN              2194\n",
       "E-2             1973\n",
       "B-2             1316\n",
       "Parolee         1052\n",
       "Name: pw_soc_title, dtype: int64"
      ]
     },
     "execution_count": 88,
     "metadata": {},
     "output_type": "execute_result"
    }
   ],
   "source": [
    "class_cert = cert_df.groupby(['class_of_admission'])['pw_soc_title'].count().sort_values(ascending=False)\n",
    "class_cert.head(8)"
   ]
  },
  {
   "cell_type": "code",
   "execution_count": 89,
   "metadata": {},
   "outputs": [
    {
     "data": {
      "text/plain": [
       "employer_city\n",
       "NEW YORK           8445\n",
       "SANTA CLARA        5943\n",
       "COLLEGE STATION    5661\n",
       "MOUNTAIN VIEW      4597\n",
       "SAN JOSE           4466\n",
       "Name: pw_soc_code, dtype: int64"
      ]
     },
     "execution_count": 89,
     "metadata": {},
     "output_type": "execute_result"
    }
   ],
   "source": [
    "cert_cities = cert_df.groupby(['employer_city'])['pw_soc_code'].count().sort_values(ascending=False)\n",
    "cert_cities.head()"
   ]
  },
  {
   "cell_type": "code",
   "execution_count": 90,
   "metadata": {},
   "outputs": [
    {
     "data": {
      "text/plain": [
       "employer_name\n",
       "COGNIZANT TECHNOLOGY SOLUTIONS US CORPORATION    5607\n",
       "INTEL CORPORATION                                3658\n",
       "MICROSOFT CORPORATION                            3253\n",
       "GOOGLE INC.                                      2972\n",
       "AMAZON CORPORATE LLC                             2104\n",
       "Name: pw_soc_code, dtype: int64"
      ]
     },
     "execution_count": 90,
     "metadata": {},
     "output_type": "execute_result"
    }
   ],
   "source": [
    "cert_employer = cert_df.groupby(['employer_name'])['pw_soc_code'].count().sort_values(ascending=False)\n",
    "cert_employer.head()"
   ]
  },
  {
   "cell_type": "code",
   "execution_count": 91,
   "metadata": {},
   "outputs": [],
   "source": [
    "b_df = df[['pw_soc_code','pw_soc_title','case_status', 'class_of_admission', 'country_of_citizenship','pw_amount_9089', 'decision_date','employer_name','employer_num_employees','employer_city']]\n",
    "no_cert_df = b_df[b_df['case_status']!='Certified']\n",
    "no_cert_titles = no_cert_df.groupby(['pw_soc_title'])['pw_soc_code'].count().sort_values(ascending=False)"
   ]
  },
  {
   "cell_type": "code",
   "execution_count": 92,
   "metadata": {},
   "outputs": [
    {
     "data": {
      "text/plain": [
       "pw_soc_title\n",
       "Software Developers, Applications            56843\n",
       "Computer Systems Analysts                    19660\n",
       "Software Developers, Systems Software        10027\n",
       "Electronics Engineers, Except Computer        6601\n",
       "Computer and Information Systems Managers     5062\n",
       "Name: pw_soc_code, dtype: int64"
      ]
     },
     "execution_count": 92,
     "metadata": {},
     "output_type": "execute_result"
    }
   ],
   "source": [
    "no_cert_titles.head()"
   ]
  },
  {
   "cell_type": "code",
   "execution_count": 93,
   "metadata": {},
   "outputs": [
    {
     "data": {
      "text/plain": [
       "class_of_admission\n",
       "H-1B          142559\n",
       "L-1             9938\n",
       "F-1             7491\n",
       "Not in USA      4383\n",
       "E-2             2246\n",
       "Name: pw_soc_title, dtype: int64"
      ]
     },
     "execution_count": 93,
     "metadata": {},
     "output_type": "execute_result"
    }
   ],
   "source": [
    "class_no_cert = no_cert_df.groupby(['class_of_admission'])['pw_soc_title'].count().sort_values(ascending=False)\n",
    "class_no_cert.head()"
   ]
  },
  {
   "cell_type": "code",
   "execution_count": 94,
   "metadata": {},
   "outputs": [
    {
     "data": {
      "text/plain": [
       "employer_city\n",
       "NEW YORK           8281\n",
       "COLLEGE STATION    6457\n",
       "REDMOND            5373\n",
       "SANTA CLARA        5170\n",
       "SAN JOSE           4881\n",
       "Name: pw_soc_code, dtype: int64"
      ]
     },
     "execution_count": 94,
     "metadata": {},
     "output_type": "execute_result"
    }
   ],
   "source": [
    "no_cert_cities = no_cert_df.groupby(['employer_city'])['pw_soc_code'].count().sort_values(ascending=False)\n",
    "no_cert_cities.head()"
   ]
  },
  {
   "cell_type": "code",
   "execution_count": 95,
   "metadata": {},
   "outputs": [
    {
     "data": {
      "text/plain": [
       "employer_name\n",
       "COGNIZANT TECHNOLOGY SOLUTIONS US CORPORATION    6474\n",
       "MICROSOFT CORPORATION                            5116\n",
       "INTEL CORPORATION                                2906\n",
       "GOOGLE INC.                                      2193\n",
       "CISCO SYSTEMS, INC.                              1634\n",
       "Name: pw_soc_code, dtype: int64"
      ]
     },
     "execution_count": 95,
     "metadata": {},
     "output_type": "execute_result"
    }
   ],
   "source": [
    "no_cert_employer = no_cert_df.groupby(['employer_name'])['pw_soc_code'].count().sort_values(ascending=False)\n",
    "no_cert_employer.head()"
   ]
  },
  {
   "cell_type": "markdown",
   "metadata": {},
   "source": [
    "## Data Cleaning"
   ]
  },
  {
   "cell_type": "code",
   "execution_count": 96,
   "metadata": {},
   "outputs": [],
   "source": [
    "df.country_of_citizenship = df.country_of_citizenship.fillna('')\n",
    "df.country_of_citzenship = df.country_of_citzenship.fillna('')"
   ]
  },
  {
   "cell_type": "code",
   "execution_count": 97,
   "metadata": {},
   "outputs": [
    {
     "data": {
      "text/plain": [
       "False    374362\n",
       "Name: citizenship, dtype: int64"
      ]
     },
     "execution_count": 97,
     "metadata": {},
     "output_type": "execute_result"
    }
   ],
   "source": [
    "df['citizenship'] = df.country_of_citizenship.astype(str)+df.country_of_citzenship.astype(str)\n",
    "df['citizenship'].isna().value_counts()"
   ]
  },
  {
   "cell_type": "code",
   "execution_count": 98,
   "metadata": {},
   "outputs": [],
   "source": [
    "df.drop(columns=['country_of_citizenship','country_of_citzenship'], inplace=True)\n",
    "df.drop(columns=['add_these_pw_job_title_9089','agent_city','agent_firm_name','agent_state'], inplace=True)"
   ]
  },
  {
   "cell_type": "code",
   "execution_count": 99,
   "metadata": {},
   "outputs": [],
   "source": [
    "df.case_no = df.case_no.fillna('')\n",
    "df.case_number = df.case_number.fillna('')"
   ]
  },
  {
   "cell_type": "code",
   "execution_count": 100,
   "metadata": {},
   "outputs": [],
   "source": [
    "df['case_num'] = df.case_no.astype(str) + df.case_number.astype(str)"
   ]
  },
  {
   "cell_type": "code",
   "execution_count": 101,
   "metadata": {},
   "outputs": [
    {
     "data": {
      "text/plain": [
       "False    374362\n",
       "Name: case_num, dtype: int64"
      ]
     },
     "execution_count": 101,
     "metadata": {},
     "output_type": "execute_result"
    }
   ],
   "source": [
    "df['case_num'].isna().value_counts()"
   ]
  },
  {
   "cell_type": "code",
   "execution_count": 102,
   "metadata": {},
   "outputs": [],
   "source": [
    "df.drop(columns=['case_no','case_number'], inplace=True)"
   ]
  },
  {
   "cell_type": "code",
   "execution_count": 103,
   "metadata": {},
   "outputs": [],
   "source": [
    "def combine_columns(new_column_name, column1, column2):\n",
    "    column1 = column1.fillna('')\n",
    "    column2 = column2.fillna('')\n",
    "    df[new_column_name] = column1.astype(str) + column2.astype(str)   \n",
    "    return df"
   ]
  },
  {
   "cell_type": "code",
   "execution_count": 109,
   "metadata": {},
   "outputs": [],
   "source": [
    "def convert_df(df):\n",
    "    df = combine_columns('foreign_work_alt_edu', df.foreign_worker_info_alt_edu_experience, df.fw_info_alt_edu_experience)\n",
    "    df = combine_columns('foreign_worker_birth_country', df.foreign_worker_info_birth_country, df.fw_info_birth_country)\n",
    "    df = combine_columns('foreign_worker_edu_other', df.foreign_worker_info_education_other, df.fw_info_education_other)\n",
    "    df = combine_columns('foreign_worker_rel_occ_exp', df.foreign_worker_info_rel_occup_exp, df.fw_info_rel_occup_exp)\n",
    "    df = combine_columns('foreign_worker_req_exp',  df.foreign_worker_info_req_experience, df.fw_info_req_experience)\n",
    "    df = combine_columns('naics_codes', df.naics_code, df.naics_us_code)\n",
    "    df = combine_columns('naics_num', df.naics_codes, df.naics_2007_us_code)\n",
    "    df = combine_columns('naics_2007', df.naics_2007_us_title, df.naics_us_title_2007)\n",
    "    df = combine_columns('naics_t', df.naics_title, df.naics_us_title)\n",
    "    df = combine_columns('naics_title', df.naics_t, df.naics_2007)\n",
    "    df = combine_columns('wage_offer_from',df.wage_offer_from_9089,df.wage_offered_from_9089)\n",
    "    df = combine_columns('wage_offer_to',df.wage_offer_to_9089,df.wage_offered_to_9089)\n",
    "    df = combine_columns('wage_unit_of_pay_offer',df.wage_offer_unit_of_pay_9089,df.wage_offered_unit_of_pay_9089)\n",
    "    df = combine_columns('pw_job_title', df.pw_job_title_908, df.pw_job_title_9089)\n",
    "    return df\n"
   ]
  },
  {
   "cell_type": "code",
   "execution_count": 110,
   "metadata": {},
   "outputs": [],
   "source": [
    "df = convert_df(df)"
   ]
  },
  {
   "cell_type": "code",
   "execution_count": 112,
   "metadata": {},
   "outputs": [],
   "source": [
    "df = df[['application_type',\n",
    " 'case_received_date',\n",
    " 'case_status',\n",
    " 'class_of_admission',\n",
    " 'decision_date',\n",
    " 'employer_city',\n",
    " 'employer_country',\n",
    " 'employer_name',\n",
    " 'employer_num_employees',\n",
    " 'employer_state',\n",
    " 'foreign_worker_info_city',\n",
    " 'foreign_worker_info_education',\n",
    " 'foreign_worker_info_state',\n",
    " 'pw_amount_9089',\n",
    " 'pw_level_9089',\n",
    " 'pw_soc_code',\n",
    " 'pw_soc_title',\n",
    " 'refile',\n",
    " 'us_economic_sector',\n",
    " 'citizenship',\n",
    " 'case_num',\n",
    " 'foreign_work_alt_edu',\n",
    " 'foreign_worker_birth_country',\n",
    " 'foreign_worker_edu_other',\n",
    " 'foreign_worker_rel_occ_exp',\n",
    " 'foreign_worker_req_exp',\n",
    " 'naics_num',\n",
    " 'naics_title',\n",
    " 'wage_offer_from',\n",
    " 'wage_offer_to',\n",
    " 'wage_unit_of_pay_offer',\n",
    " 'pw_job_title']]"
   ]
  },
  {
   "cell_type": "code",
   "execution_count": 114,
   "metadata": {},
   "outputs": [
    {
     "name": "stdout",
     "output_type": "stream",
     "text": [
      "<class 'pandas.core.frame.DataFrame'>\n",
      "RangeIndex: 374362 entries, 0 to 374361\n",
      "Data columns (total 32 columns):\n",
      "application_type                 135269 non-null object\n",
      "case_received_date               239091 non-null object\n",
      "case_status                      374362 non-null object\n",
      "class_of_admission               351517 non-null object\n",
      "decision_date                    374362 non-null object\n",
      "employer_city                    374348 non-null object\n",
      "employer_country                 239019 non-null object\n",
      "employer_name                    374350 non-null object\n",
      "employer_num_employees           239013 non-null float64\n",
      "employer_state                   374320 non-null object\n",
      "foreign_worker_info_city         239065 non-null object\n",
      "foreign_worker_info_education    239053 non-null object\n",
      "foreign_worker_info_state        221898 non-null object\n",
      "pw_amount_9089                   372146 non-null object\n",
      "pw_level_9089                    346735 non-null object\n",
      "pw_soc_code                      373965 non-null object\n",
      "pw_soc_title                     372026 non-null object\n",
      "refile                           118079 non-null object\n",
      "us_economic_sector               129068 non-null object\n",
      "citizenship                      374362 non-null object\n",
      "case_num                         374362 non-null object\n",
      "foreign_work_alt_edu             374362 non-null object\n",
      "foreign_worker_birth_country     374362 non-null object\n",
      "foreign_worker_edu_other         374362 non-null object\n",
      "foreign_worker_rel_occ_exp       374362 non-null object\n",
      "foreign_worker_req_exp           374362 non-null object\n",
      "naics_num                        374362 non-null object\n",
      "naics_title                      374362 non-null object\n",
      "wage_offer_from                  374362 non-null object\n",
      "wage_offer_to                    374362 non-null object\n",
      "wage_unit_of_pay_offer           374362 non-null object\n",
      "pw_job_title                     374362 non-null object\n",
      "dtypes: float64(1), object(31)\n",
      "memory usage: 91.4+ MB\n"
     ]
    }
   ],
   "source": [
    "df.info()"
   ]
  },
  {
   "cell_type": "code",
   "execution_count": 115,
   "metadata": {},
   "outputs": [],
   "source": [
    "df.employer_city = df.employer_city.str.upper()\n",
    "df.employer_name = df.employer_name.str.upper()\n",
    "df.naics_title = df.naics_title.str.upper()\n",
    "df.pw_job_title = df.pw_job_title.str.upper()\n",
    "df.us_economic_sector = df.us_economic_sector.str.upper()\n",
    "df.pw_soc_title  = df.pw_soc_title.str.upper()"
   ]
  },
  {
   "cell_type": "code",
   "execution_count": 116,
   "metadata": {},
   "outputs": [],
   "source": [
    "df['wage_unit_of_pay_offer'] = df['wage_unit_of_pay_offer'].replace('bi',\"Bi-Weekly\")\n",
    "df['wage_unit_of_pay_offer'] = df['wage_unit_of_pay_offer'].replace('mth',\"Month\")\n",
    "df['wage_unit_of_pay_offer'] = df['wage_unit_of_pay_offer'].replace('wk',\"Week\")\n",
    "df['wage_unit_of_pay_offer'] = df['wage_unit_of_pay_offer'].replace('hr',\"Hour\")\n",
    "df['wage_unit_of_pay_offer'] = df['wage_unit_of_pay_offer'].replace('yr',\"Year\")"
   ]
  },
  {
   "cell_type": "code",
   "execution_count": 117,
   "metadata": {},
   "outputs": [],
   "source": [
    "df = df.replace(\"\",np.NaN)"
   ]
  },
  {
   "cell_type": "code",
   "execution_count": null,
   "metadata": {},
   "outputs": [],
   "source": [
    "#df.to_csv(r'~/Code/mod_3_project/visa_clean.csv')"
   ]
  }
 ],
 "metadata": {
  "kernelspec": {
   "display_name": "Python 3",
   "language": "python",
   "name": "python3"
  },
  "language_info": {
   "codemirror_mode": {
    "name": "ipython",
    "version": 3
   },
   "file_extension": ".py",
   "mimetype": "text/x-python",
   "name": "python",
   "nbconvert_exporter": "python",
   "pygments_lexer": "ipython3",
   "version": "3.7.3"
  }
 },
 "nbformat": 4,
 "nbformat_minor": 2
}
